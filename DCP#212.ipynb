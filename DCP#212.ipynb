{
 "cells": [
  {
   "cell_type": "code",
   "execution_count": 2,
   "metadata": {},
   "outputs": [
    {
     "name": "stdout",
     "output_type": "stream",
     "text": [
      "A\n"
     ]
    }
   ],
   "source": [
    "\"\"\"\n",
    "This problem was asked by Dropbox.\n",
    "\n",
    "Spreadsheets often use this alphabetical encoding for its columns: \"A\", \"B\", \"C\", ..., \"AA\", \"AB\", ..., \"ZZ\", \"AAA\", \"AAB\", ....\n",
    "\n",
    "Given a column number, return its alphabetical column id. For example, given 1, return \"A\". Given 27, return \"AA\".\n",
    "\"\"\"\n",
    "\n",
    "alphabets = [\"A\", \"B\", \"C\", \"D\", \"E\", \"F\",\"G\",\"H\",\"I\", \"J\", \"K\", \"L\", \"M\", \"N\", \"O\", \"P\", \"Q\", \"R\", \"S\", \"T\", \"U\", \"V\", \"W\", \"X\", \"Y\",\"Z\"]\n",
    "\n",
    "choice = int(input(\"Enter a column nmber to select: \"))\n",
    "\n",
    "if choice == 1:\n",
    "    print(alphabets[(choice - 1)])"
   ]
  }
 ],
 "metadata": {
  "kernelspec": {
   "display_name": "Python 3.10.7 64-bit (microsoft store)",
   "language": "python",
   "name": "python3"
  },
  "language_info": {
   "codemirror_mode": {
    "name": "ipython",
    "version": 3
   },
   "file_extension": ".py",
   "mimetype": "text/x-python",
   "name": "python",
   "nbconvert_exporter": "python",
   "pygments_lexer": "ipython3",
   "version": "3.10.7"
  },
  "orig_nbformat": 4,
  "vscode": {
   "interpreter": {
    "hash": "85bfcc6b908c46341689eafee16ef331ae0867f89a5c59a8f0bdc8bedddea09c"
   }
  }
 },
 "nbformat": 4,
 "nbformat_minor": 2
}
