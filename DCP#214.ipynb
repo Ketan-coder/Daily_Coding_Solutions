{
 "cells": [
  {
   "cell_type": "code",
   "execution_count": 3,
   "metadata": {},
   "outputs": [
    {
     "name": "stdout",
     "output_type": "stream",
     "text": [
      "0b11\n"
     ]
    }
   ],
   "source": [
    "\"\"\"\n",
    "Good morning! Here's your coding interview problem for today.\n",
    "\n",
    "This problem was asked by Stripe.\n",
    "\n",
    "Given an integer n, return the length of the longest consecutive run of 1s in its binary representation.\n",
    "\n",
    "For example, given 156, you should return 3.\n",
    "\"\"\"\n",
    "\n",
    "inputed_number = int(input(\"Input a number: \"))\n",
    "binary_number = bin(inputed_number)\n",
    "print(binary_number)"
   ]
  }
 ],
 "metadata": {
  "kernelspec": {
   "display_name": "Python 3.10.7 64-bit (microsoft store)",
   "language": "python",
   "name": "python3"
  },
  "language_info": {
   "codemirror_mode": {
    "name": "ipython",
    "version": 3
   },
   "file_extension": ".py",
   "mimetype": "text/x-python",
   "name": "python",
   "nbconvert_exporter": "python",
   "pygments_lexer": "ipython3",
   "version": "3.10.7"
  },
  "orig_nbformat": 4,
  "vscode": {
   "interpreter": {
    "hash": "85bfcc6b908c46341689eafee16ef331ae0867f89a5c59a8f0bdc8bedddea09c"
   }
  }
 },
 "nbformat": 4,
 "nbformat_minor": 2
}
