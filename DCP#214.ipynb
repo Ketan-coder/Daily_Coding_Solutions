{
 "cells": [
  {
   "cell_type": "code",
   "execution_count": 5,
   "metadata": {},
   "outputs": [
    {
     "name": "stdout",
     "output_type": "stream",
     "text": [
      "0b10011100\n",
      "0b100111000\n",
      "156\n",
      "24\n",
      "24\n",
      "16\n",
      "16\n",
      "0\n"
     ]
    },
    {
     "data": {
      "text/plain": [
       "3"
      ]
     },
     "execution_count": 5,
     "metadata": {},
     "output_type": "execute_result"
    }
   ],
   "source": [
    "\"\"\"\n",
    "Good morning! Here's your coding interview problem for today.\n",
    "\n",
    "This problem was asked by Stripe.\n",
    "\n",
    "Given an integer n, return the length of the longest consecutive run of 1s in its binary representation.\n",
    "\n",
    "For example, given 156, you should return 3.\n",
    "\"\"\"\n",
    "\n",
    "# MyApproch\n",
    "\n",
    "# for numbers in binary_number:\n",
    "#     get_index = binary_number.index(numbers)\n",
    "#     # print(get_index)\n",
    "#     # print(binary_number[get_index])\n",
    "#     if binary_number[(get_index - 1)] == \"0\":\n",
    "#         if numbers == \"1\":\n",
    "#             count += 1\n",
    "#         else:\n",
    "#             pass\n",
    "# print(count)\n",
    "\n",
    "inputed_number = int(input(\"Input a number: \"))\n",
    "binary_number = bin(inputed_number)\n",
    "print(binary_number)\n",
    "print(bin((inputed_number * 2)))\n",
    "\n",
    "def maxConsecutiveOnes(x):\n",
    "    # Initialize result\n",
    "    count = 0\n",
    "    # Count the number of iterations to\n",
    "    # reach x = 0.\n",
    "    # print(x)\n",
    "    while (x!=0):\n",
    "        print(x)\n",
    "        # This operation reduces length\n",
    "        # of every sequence of 1s by one.\n",
    "        # x = (x & (x << 1))\n",
    "        x = (x & (2*x))\n",
    "        print(x)\n",
    "        count=count+1\n",
    "     \n",
    "    return count\n",
    "\n",
    "maxConsecutiveOnes(inputed_number)"
   ]
  }
 ],
 "metadata": {
  "kernelspec": {
   "display_name": "Python 3.10.7 64-bit (microsoft store)",
   "language": "python",
   "name": "python3"
  },
  "language_info": {
   "codemirror_mode": {
    "name": "ipython",
    "version": 3
   },
   "file_extension": ".py",
   "mimetype": "text/x-python",
   "name": "python",
   "nbconvert_exporter": "python",
   "pygments_lexer": "ipython3",
   "version": "3.10.7"
  },
  "orig_nbformat": 4,
  "vscode": {
   "interpreter": {
    "hash": "85bfcc6b908c46341689eafee16ef331ae0867f89a5c59a8f0bdc8bedddea09c"
   }
  }
 },
 "nbformat": 4,
 "nbformat_minor": 2
}
