{
 "cells": [
  {
   "cell_type": "code",
   "execution_count": 18,
   "metadata": {},
   "outputs": [
    {
     "name": "stdout",
     "output_type": "stream",
     "text": [
      "1aGpple\n",
      "1- > integer\n",
      "GUpper Case letter noticed\n",
      "2Uboy\n",
      "2- > integer\n",
      "UUpper Case letter noticed\n",
      "3cat4\n",
      "3- > integer\n",
      "4- > integer\n",
      "5li3on3\n",
      "5- > integer\n",
      "3- > integer\n",
      "3- > integer\n",
      "['a', 'p', 'p', 'l', 'e', 'b', 'o', 'y', 'c', 'a', 't', 'l', 'i', 'o', 'n']\n",
      "The list after merging elements : ['apple', 'b', 'o', 'y', 'c', 'a', 't', 'l', 'i', 'o', 'n']\n",
      "apple\n"
     ]
    }
   ],
   "source": [
    "\"\"\"\n",
    "Question 1: Write an inline `for loop` in python to remove all the numbers & capital \n",
    "letters from this list of codes and return a clean list.\n",
    "Ex1: input_list = ['1aGpple', '2Uboy', '3cat4', '5li3on3']\n",
    "output: ['apple', 'boy', 'cat', 'lion']\n",
    "\"\"\"\n",
    "input_list = ['1aGpple', '2Uboy', '3cat4', '5li3on3']\n",
    "output= ['apple', 'boy', 'cat', 'lion']\n",
    "output_list = []\n",
    "output_list1 = []\n",
    "\n",
    "\n",
    "for inputs in input_list:\n",
    "    print(inputs)\n",
    "    for output in inputs:\n",
    "        if output.isnumeric():\n",
    "            print(output + \"- > integer\")\n",
    "            postiton = inputs.index(output)\n",
    "            inputs.replace(output, \" \", postiton)\n",
    "            # output_list1.append(inputs)\n",
    "        elif output.isupper():\n",
    "            print(output + \"Upper Case letter noticed\")\n",
    "        else:\n",
    "            if output.isascii():\n",
    "                output_list.append(output)\n",
    "print(output_list)\n",
    "\n",
    "# using join() + list slicing\n",
    "# merging list elements\n",
    "output_list[0 : 5] = [''.join(output_list[0 : 5])]\n",
    "output_list[6 : 7] = [''.join(output_list[6 : 7])]\n",
    "output_list1[0 : 5] = [''.join(output_list[6 : 7])]\n",
    "output_string = output_list[0]\n",
    "output_string1 = output_list1[0]\n",
    "  \n",
    "# printing result \n",
    "print (\"The list after merging elements : \" +  str(output_list))\n",
    "print(output_string)"
   ]
  }
 ],
 "metadata": {
  "kernelspec": {
   "display_name": "Python 3.10.7 64-bit (microsoft store)",
   "language": "python",
   "name": "python3"
  },
  "language_info": {
   "codemirror_mode": {
    "name": "ipython",
    "version": 3
   },
   "file_extension": ".py",
   "mimetype": "text/x-python",
   "name": "python",
   "nbconvert_exporter": "python",
   "pygments_lexer": "ipython3",
   "version": "3.10.7"
  },
  "orig_nbformat": 4,
  "vscode": {
   "interpreter": {
    "hash": "85bfcc6b908c46341689eafee16ef331ae0867f89a5c59a8f0bdc8bedddea09c"
   }
  }
 },
 "nbformat": 4,
 "nbformat_minor": 2
}
