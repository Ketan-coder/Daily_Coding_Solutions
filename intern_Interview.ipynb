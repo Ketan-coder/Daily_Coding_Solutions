{
 "cells": [
  {
   "cell_type": "code",
   "execution_count": 18,
   "metadata": {},
   "outputs": [
    {
     "name": "stdout",
     "output_type": "stream",
     "text": [
      "1aGpple\n",
      "1- > integer\n",
      "Upper Case letter noticed\n",
      "2Uboy\n",
      "2- > integer\n",
      "Upper Case letter noticed\n",
      "3cat4\n",
      "3- > integer\n",
      "4- > integer\n",
      "5li3on3\n",
      "5- > integer\n",
      "3- > integer\n",
      "3- > integer\n",
      "['a', 'p', 'p', 'l', 'e', 'b', 'o', 'y', 'c', 'a', 't', 'l', 'i', 'o', 'n']\n"
     ]
    }
   ],
   "source": [
    "# from curses.ascii import isuppe\n",
    "input_list = ['1aGpple', '2Uboy', '3cat4', '5li3on3']\n",
    "output= ['apple', 'boy', 'cat', 'lion']\n",
    "output_list = []\n",
    "\n",
    "for inputs in input_list:\n",
    "    print(inputs)\n",
    "    for output in inputs:\n",
    "        # print(output)\n",
    "        # print(type(output))\n",
    "        if output.isnumeric():\n",
    "            print(output + \"- > integer\")\n",
    "\n",
    "            # print(int(output))\n",
    "        elif output.isupper():\n",
    "            print(output + \"Upper Case letter noticed\")\n",
    "        else:\n",
    "            output_list.append(output)\n",
    "print(output_list)"
   ]
  }
 ],
 "metadata": {
  "kernelspec": {
   "display_name": "Python 3.10.7 64-bit (microsoft store)",
   "language": "python",
   "name": "python3"
  },
  "language_info": {
   "codemirror_mode": {
    "name": "ipython",
    "version": 3
   },
   "file_extension": ".py",
   "mimetype": "text/x-python",
   "name": "python",
   "nbconvert_exporter": "python",
   "pygments_lexer": "ipython3",
   "version": "3.10.7"
  },
  "orig_nbformat": 4,
  "vscode": {
   "interpreter": {
    "hash": "85bfcc6b908c46341689eafee16ef331ae0867f89a5c59a8f0bdc8bedddea09c"
   }
  }
 },
 "nbformat": 4,
 "nbformat_minor": 2
}
