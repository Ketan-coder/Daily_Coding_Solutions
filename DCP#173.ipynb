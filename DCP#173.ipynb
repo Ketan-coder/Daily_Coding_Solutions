{
 "cells": [
  {
   "cell_type": "code",
   "execution_count": 6,
   "metadata": {},
   "outputs": [
    {
     "name": "stdout",
     "output_type": "stream",
     "text": [
      "{'key': 3, 'foo.a': 5, 'foo.bar.baz': 8}\n"
     ]
    }
   ],
   "source": [
    "\"\"\"\n",
    "This problem was asked by Stripe.\n",
    "Write a function to flatten a nested dictionary. Namespace the keys with a period.\n",
    "For example, given the following dictionary is listed Below:\n",
    "\"\"\"\n",
    "dictionary = {\n",
    "    \"key\": 3,\n",
    "    \"foo\": {\n",
    "        \"a\": 5,\n",
    "        \"bar\": {\n",
    "            \"baz\": 8\n",
    "        }\n",
    "    }\n",
    "}\n",
    "new_dictionary = {}\n",
    "new_dictionary.update({\"key\":3,\"foo.a\":dictionary[\"foo\"][\"a\"],\"foo.bar.baz\":dictionary[\"foo\"][\"bar\"][\"baz\"]})\n",
    "print(new_dictionary)"
   ]
  }
 ],
 "metadata": {
  "kernelspec": {
   "display_name": "Python 3.10.6 64-bit (windows store)",
   "language": "python",
   "name": "python3"
  },
  "language_info": {
   "codemirror_mode": {
    "name": "ipython",
    "version": 3
   },
   "file_extension": ".py",
   "mimetype": "text/x-python",
   "name": "python",
   "nbconvert_exporter": "python",
   "pygments_lexer": "ipython3",
   "version": "3.10.6"
  },
  "orig_nbformat": 4,
  "vscode": {
   "interpreter": {
    "hash": "85bfcc6b908c46341689eafee16ef331ae0867f89a5c59a8f0bdc8bedddea09c"
   }
  }
 },
 "nbformat": 4,
 "nbformat_minor": 2
}
