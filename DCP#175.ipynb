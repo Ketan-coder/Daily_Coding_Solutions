{
 "cells": [
  {
   "cell_type": "code",
   "execution_count": null,
   "metadata": {},
   "outputs": [],
   "source": [
    "\"\"\"\n",
    "This problem was asked by Google.\n",
    "\n",
    "You are given a starting state start, a list of transition probabilities for a Markov chain, and a number of steps num_steps. \n",
    "Run the Markov chain starting from start for num_steps and compute the number of times we visited each state.\n",
    "\n",
    "For example, given the starting state a, number of steps 5000, and the following transition probabilities:\n",
    "\n",
    "[\n",
    "  ('a', 'a', 0.9),\n",
    "  ('a', 'b', 0.075),\n",
    "  ('a', 'c', 0.025),\n",
    "  ('b', 'a', 0.15),\n",
    "  ('b', 'b', 0.8),\n",
    "  ('b', 'c', 0.05),\n",
    "  ('c', 'a', 0.25),\n",
    "  ('c', 'b', 0.25),\n",
    "  ('c', 'c', 0.5)\n",
    "]\n",
    "One instance of running this Markov chain might produce { 'a': 3012, 'b': 1656, 'c': 332 }.\n",
    "\n",
    "\"\"\""
   ]
  }
 ],
 "metadata": {
  "kernelspec": {
   "display_name": "Python 3.10.7 64-bit (microsoft store)",
   "language": "python",
   "name": "python3"
  },
  "language_info": {
   "name": "python",
   "version": "3.10.7"
  },
  "orig_nbformat": 4,
  "vscode": {
   "interpreter": {
    "hash": "85bfcc6b908c46341689eafee16ef331ae0867f89a5c59a8f0bdc8bedddea09c"
   }
  }
 },
 "nbformat": 4,
 "nbformat_minor": 2
}
