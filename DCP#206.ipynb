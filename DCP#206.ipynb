{
 "cells": [
  {
   "cell_type": "code",
   "execution_count": 20,
   "metadata": {},
   "outputs": [
    {
     "name": "stdout",
     "output_type": "stream",
     "text": [
      "c b a "
     ]
    }
   ],
   "source": [
    "\"\"\"\n",
    "Given an array and a permutation, apply the permutation to the array. \n",
    "For example, given the array [\"a\", \"b\", \"c\"] and the permutation [2, 1, 0], \n",
    "return [\"c\", \"b\", \"a\"].\n",
    "\"\"\"\n",
    "# Function to permute the given\n",
    "# array based on the given conditions\n",
    "def permute(A, P, n):\n",
    "\t\n",
    "\t# For each element of P\n",
    "\tfor i in range(n):\n",
    "\t\tnext = i\n",
    "\n",
    "\t\t# Check if it is already\n",
    "\t\t# considered in cycle\n",
    "\t\twhile (P[next] >= 0):\n",
    "\t\t\t\n",
    "\t\t\t# Swap the current element according\n",
    "\t\t\t# to the permutation in P\n",
    "\t\t\tt = A[i]\n",
    "\t\t\tA[i] = A[P[next]]\n",
    "\t\t\tA[P[next]] = t\n",
    "\t\t\t\n",
    "\t\t\ttemp = P[next]\n",
    "\n",
    "\t\t\t# Subtract n from an entry in P\n",
    "\t\t\t# to make it negative which indicates\n",
    "\t\t\t# the corresponding move\n",
    "\t\t\t# has been performed\n",
    "\t\t\tP[next] -= n\n",
    "\t\t\tnext = temp\n",
    "\n",
    "# Driver code\n",
    "if __name__ == '__main__':\n",
    "\tA = ['a','b','c']\n",
    "\tP = [2, 1, 0]\n",
    "\tn = len(A)\n",
    "\n",
    "\tpermute(A, P, n)\n",
    "\n",
    "\t# Print the new array after\n",
    "\t# applying the permutation\n",
    "\tfor i in range(n):\n",
    "\t\tprint(A[i], end = \" \")\n",
    "\t\t\n",
    "# This code is contributed by Surendra_Gangwar\n"
   ]
  }
 ],
 "metadata": {
  "kernelspec": {
   "display_name": "Python 3.10.7 64-bit (microsoft store)",
   "language": "python",
   "name": "python3"
  },
  "language_info": {
   "codemirror_mode": {
    "name": "ipython",
    "version": 3
   },
   "file_extension": ".py",
   "mimetype": "text/x-python",
   "name": "python",
   "nbconvert_exporter": "python",
   "pygments_lexer": "ipython3",
   "version": "3.10.7"
  },
  "orig_nbformat": 4,
  "vscode": {
   "interpreter": {
    "hash": "85bfcc6b908c46341689eafee16ef331ae0867f89a5c59a8f0bdc8bedddea09c"
   }
  }
 },
 "nbformat": 4,
 "nbformat_minor": 2
}
