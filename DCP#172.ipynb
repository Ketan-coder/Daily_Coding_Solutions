{
 "cells": [
  {
   "cell_type": "code",
   "execution_count": 15,
   "metadata": {},
   "outputs": [
    {
     "name": "stdout",
     "output_type": "stream",
     "text": [
      "Found dog on 0\n",
      "Found cat on 3\n",
      "[0, 3]\n"
     ]
    }
   ],
   "source": [
    "\"\"\"\n",
    "This problem was asked by Dropbox.\n",
    "\n",
    "Given a string s and a list of words words, where each word is the same length, find all starting indices of substrings in s that is a concatenation of every word in words exactly once.\n",
    "\n",
    "For example, given s = \"dogcatcatcodecatdog\" and words = [\"cat\", \"dog\"], return [0, 13], since \"dogcat\" starts at index 0 and \"catdog\" starts at index 13.\n",
    "\n",
    "Given s = \"barfoobazbitbyte\" and words = [\"dog\", \"cat\"], return [] since there are no substrings composed of \"dog\" and \"cat\" in s.\n",
    "\n",
    "The order of the indices does not matter.\n",
    "\"\"\"\n",
    "s = \"dogcatcatcodecatdog\"\n",
    "words = [\"dog\", \"cat\"]\n",
    "index_of_words = []\n",
    "for word in words:\n",
    "    if s.find(word) >= 0:\n",
    "        print(\"Found \"+ word + \" on \" + str(s.find(word)))\n",
    "        index_of_words.append(s.find(word))\n",
    "    else:\n",
    "        print(\"Not Found\")\n",
    "print(index_of_words)"
   ]
  }
 ],
 "metadata": {
  "kernelspec": {
   "display_name": "Python 3.10.6 64-bit (windows store)",
   "language": "python",
   "name": "python3"
  },
  "language_info": {
   "codemirror_mode": {
    "name": "ipython",
    "version": 3
   },
   "file_extension": ".py",
   "mimetype": "text/x-python",
   "name": "python",
   "nbconvert_exporter": "python",
   "pygments_lexer": "ipython3",
   "version": "3.10.6"
  },
  "orig_nbformat": 4,
  "vscode": {
   "interpreter": {
    "hash": "85bfcc6b908c46341689eafee16ef331ae0867f89a5c59a8f0bdc8bedddea09c"
   }
  }
 },
 "nbformat": 4,
 "nbformat_minor": 2
}
