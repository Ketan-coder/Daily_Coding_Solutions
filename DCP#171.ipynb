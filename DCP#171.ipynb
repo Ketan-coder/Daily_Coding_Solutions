{
 "cells": [
  {
   "cell_type": "code",
   "execution_count": null,
   "metadata": {},
   "outputs": [],
   "source": [
    "\"\"\"\n",
    "This problem was asked by Amazon.\n",
    "\n",
    "You are given a list of data entries that represent entries and exits of groups of people into a building. An entry looks like this:\n",
    "\n",
    "    {\"timestamp\": 1526579928, count: 3, \"type\": \"enter\"}\n",
    "\n",
    "This means 3 people entered the building. An exit looks like this:\n",
    "\n",
    "    {\"timestamp\": 1526580382, count: 2, \"type\": \"exit\"}\n",
    "\n",
    "This means that 2 people exited the building. timestamp is in Unix time.\n",
    "\n",
    "Find the busiest period in the building, that is, the time with the most people in the building. \n",
    "Return it as a pair of (start, end) timestamps. You can assume the building always starts off and ends up empty, i.e. with 0 people inside.\n",
    "\"\"\"\n",
    "from datetime import datetime\n",
    "\n",
    "count = 0\n",
    "peoples_enter_dict = {\n",
    "        {\n",
    "            \"timestamp\": 1526579928, \n",
    "            count: 3, \n",
    "            \"type\": \"enter\"\n",
    "        } \n",
    "    }\n",
    "people_exit_dict = {\n",
    "    {\n",
    "            \"timestamp\": 1526580382, \n",
    "            count: 2, \n",
    "            \"type\": \"exit\"\n",
    "        }\n",
    "}\n",
    "datetime"
   ]
  }
 ],
 "metadata": {
  "kernelspec": {
   "display_name": "Python 3.10.7 64-bit (microsoft store)",
   "language": "python",
   "name": "python3"
  },
  "language_info": {
   "name": "python",
   "version": "3.10.7"
  },
  "orig_nbformat": 4,
  "vscode": {
   "interpreter": {
    "hash": "85bfcc6b908c46341689eafee16ef331ae0867f89a5c59a8f0bdc8bedddea09c"
   }
  }
 },
 "nbformat": 4,
 "nbformat_minor": 2
}
